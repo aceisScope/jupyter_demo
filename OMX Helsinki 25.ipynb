{
 "cells": [
  {
   "cell_type": "markdown",
   "metadata": {},
   "source": [
    "# 1. Import data with pandas"
   ]
  },
  {
   "cell_type": "markdown",
   "metadata": {},
   "source": [
    "File **FI0008900212-2018-01-01-2018-05-10.csv** contains data of the Helsinki stock market index OMX Helsinki 25 from the beginning of this year until the 10th of May. \n",
    "\n",
    "`read_csv()` function can take a lot of parameters, but here we only use a couple:\n",
    "1. `sep=';'` means using \";\" as the separator of the csv file, since by default it should be a \",\"\n",
    "2. `header=1` indicates the first line is the csv header, which we want to exclue from the result\n",
    "3. `parse_dates=['Date']` makes pandas to parse the colume \"Date\" into timestamps\n",
    "4. `index_col='Date'` sets the \"Date\" column as the index, so we can benefit from pandas' time series feature.\n",
    "5. `decimal=','` is a way to deal with float, as the original price columns contain float numbers like _4232,510_ \n"
   ]
  },
  {
   "cell_type": "code",
   "execution_count": 44,
   "metadata": {
    "scrolled": false
   },
   "outputs": [
    {
     "data": {
      "text/html": [
       "<div>\n",
       "<style scoped>\n",
       "    .dataframe tbody tr th:only-of-type {\n",
       "        vertical-align: middle;\n",
       "    }\n",
       "\n",
       "    .dataframe tbody tr th {\n",
       "        vertical-align: top;\n",
       "    }\n",
       "\n",
       "    .dataframe thead th {\n",
       "        text-align: right;\n",
       "    }\n",
       "</style>\n",
       "<table border=\"1\" class=\"dataframe\">\n",
       "  <thead>\n",
       "    <tr style=\"text-align: right;\">\n",
       "      <th></th>\n",
       "      <th>High price</th>\n",
       "      <th>Low price</th>\n",
       "      <th>Closing price</th>\n",
       "      <th>Average price</th>\n",
       "      <th>Total volume</th>\n",
       "      <th>Turnover</th>\n",
       "      <th>Trades</th>\n",
       "    </tr>\n",
       "    <tr>\n",
       "      <th>Date</th>\n",
       "      <th></th>\n",
       "      <th></th>\n",
       "      <th></th>\n",
       "      <th></th>\n",
       "      <th></th>\n",
       "      <th></th>\n",
       "      <th></th>\n",
       "    </tr>\n",
       "  </thead>\n",
       "  <tbody>\n",
       "    <tr>\n",
       "      <th>2018-05-09</th>\n",
       "      <td>4232.51</td>\n",
       "      <td>4201.23</td>\n",
       "      <td>4220.86</td>\n",
       "      <td>NaN</td>\n",
       "      <td>1</td>\n",
       "      <td>NaN</td>\n",
       "      <td>0</td>\n",
       "    </tr>\n",
       "    <tr>\n",
       "      <th>2018-05-08</th>\n",
       "      <td>4229.15</td>\n",
       "      <td>4184.83</td>\n",
       "      <td>4229.15</td>\n",
       "      <td>NaN</td>\n",
       "      <td>1</td>\n",
       "      <td>NaN</td>\n",
       "      <td>0</td>\n",
       "    </tr>\n",
       "    <tr>\n",
       "      <th>2018-05-07</th>\n",
       "      <td>4193.27</td>\n",
       "      <td>4149.39</td>\n",
       "      <td>4191.73</td>\n",
       "      <td>NaN</td>\n",
       "      <td>1</td>\n",
       "      <td>NaN</td>\n",
       "      <td>0</td>\n",
       "    </tr>\n",
       "    <tr>\n",
       "      <th>2018-05-04</th>\n",
       "      <td>4152.17</td>\n",
       "      <td>4107.24</td>\n",
       "      <td>4150.06</td>\n",
       "      <td>NaN</td>\n",
       "      <td>1</td>\n",
       "      <td>NaN</td>\n",
       "      <td>0</td>\n",
       "    </tr>\n",
       "    <tr>\n",
       "      <th>2018-05-03</th>\n",
       "      <td>4172.79</td>\n",
       "      <td>4105.29</td>\n",
       "      <td>4106.93</td>\n",
       "      <td>NaN</td>\n",
       "      <td>1</td>\n",
       "      <td>NaN</td>\n",
       "      <td>0</td>\n",
       "    </tr>\n",
       "  </tbody>\n",
       "</table>\n",
       "</div>"
      ],
      "text/plain": [
       "            High price  Low price  Closing price  Average price  Total volume  \\\n",
       "Date                                                                            \n",
       "2018-05-09     4232.51    4201.23        4220.86            NaN             1   \n",
       "2018-05-08     4229.15    4184.83        4229.15            NaN             1   \n",
       "2018-05-07     4193.27    4149.39        4191.73            NaN             1   \n",
       "2018-05-04     4152.17    4107.24        4150.06            NaN             1   \n",
       "2018-05-03     4172.79    4105.29        4106.93            NaN             1   \n",
       "\n",
       "            Turnover  Trades  \n",
       "Date                          \n",
       "2018-05-09       NaN       0  \n",
       "2018-05-08       NaN       0  \n",
       "2018-05-07       NaN       0  \n",
       "2018-05-04       NaN       0  \n",
       "2018-05-03       NaN       0  "
      ]
     },
     "execution_count": 44,
     "metadata": {},
     "output_type": "execute_result"
    }
   ],
   "source": [
    "import pandas as pd\n",
    "data = pd.read_csv('FI0008900212-2018-01-01-2018-05-10.csv', sep=';', header=1, parse_dates=['Date'], index_col='Date', decimal=',')\n",
    "data.head()"
   ]
  },
  {
   "cell_type": "markdown",
   "metadata": {},
   "source": [
    "It's easy to a DataFrame's information, e.g. how many rows and columns it has, as well as what kind of object a column contains."
   ]
  },
  {
   "cell_type": "code",
   "execution_count": 46,
   "metadata": {},
   "outputs": [
    {
     "name": "stdout",
     "output_type": "stream",
     "text": [
      "<class 'pandas.core.frame.DataFrame'>\n",
      "DatetimeIndex: 89 entries, 2018-05-09 to 2018-01-02\n",
      "Data columns (total 7 columns):\n",
      "High price       89 non-null float64\n",
      "Low price        89 non-null float64\n",
      "Closing price    89 non-null float64\n",
      "Average price    0 non-null float64\n",
      "Total volume     89 non-null int64\n",
      "Turnover         0 non-null float64\n",
      "Trades           89 non-null int64\n",
      "dtypes: float64(5), int64(2)\n",
      "memory usage: 5.6 KB\n"
     ]
    }
   ],
   "source": [
    "data.info()"
   ]
  },
  {
   "cell_type": "markdown",
   "metadata": {},
   "source": [
    "## 2. Time series \n"
   ]
  },
  {
   "cell_type": "markdown",
   "metadata": {},
   "source": [
    "By checking the type of the DataFrame's index, we could see it's a `DatetimeIndex`, meaning _Index of Timestamp_."
   ]
  },
  {
   "cell_type": "code",
   "execution_count": 31,
   "metadata": {},
   "outputs": [
    {
     "data": {
      "text/plain": [
       "pandas.core.indexes.datetimes.DatetimeIndex"
      ]
     },
     "execution_count": 31,
     "metadata": {},
     "output_type": "execute_result"
    }
   ],
   "source": [
    "type(data.index)"
   ]
  },
  {
   "cell_type": "markdown",
   "metadata": {},
   "source": [
    "To select the data from a certain time range is straight-forward. Panda time seires supports partial string indexing, so if a date or a string parses to timestamps, it can be used as indexing parameters."
   ]
  },
  {
   "cell_type": "code",
   "execution_count": 32,
   "metadata": {},
   "outputs": [
    {
     "data": {
      "text/html": [
       "<div>\n",
       "<style scoped>\n",
       "    .dataframe tbody tr th:only-of-type {\n",
       "        vertical-align: middle;\n",
       "    }\n",
       "\n",
       "    .dataframe tbody tr th {\n",
       "        vertical-align: top;\n",
       "    }\n",
       "\n",
       "    .dataframe thead th {\n",
       "        text-align: right;\n",
       "    }\n",
       "</style>\n",
       "<table border=\"1\" class=\"dataframe\">\n",
       "  <thead>\n",
       "    <tr style=\"text-align: right;\">\n",
       "      <th></th>\n",
       "      <th>High price</th>\n",
       "      <th>Low price</th>\n",
       "      <th>Closing price</th>\n",
       "      <th>Average price</th>\n",
       "      <th>Total volume</th>\n",
       "      <th>Turnover</th>\n",
       "      <th>Trades</th>\n",
       "    </tr>\n",
       "    <tr>\n",
       "      <th>Date</th>\n",
       "      <th></th>\n",
       "      <th></th>\n",
       "      <th></th>\n",
       "      <th></th>\n",
       "      <th></th>\n",
       "      <th></th>\n",
       "      <th></th>\n",
       "    </tr>\n",
       "  </thead>\n",
       "  <tbody>\n",
       "    <tr>\n",
       "      <th>2018-05-09</th>\n",
       "      <td>4232,510</td>\n",
       "      <td>4201,230</td>\n",
       "      <td>4220,860</td>\n",
       "      <td>NaN</td>\n",
       "      <td>1</td>\n",
       "      <td>NaN</td>\n",
       "      <td>0</td>\n",
       "    </tr>\n",
       "    <tr>\n",
       "      <th>2018-05-08</th>\n",
       "      <td>4229,150</td>\n",
       "      <td>4184,830</td>\n",
       "      <td>4229,150</td>\n",
       "      <td>NaN</td>\n",
       "      <td>1</td>\n",
       "      <td>NaN</td>\n",
       "      <td>0</td>\n",
       "    </tr>\n",
       "    <tr>\n",
       "      <th>2018-05-07</th>\n",
       "      <td>4193,270</td>\n",
       "      <td>4149,390</td>\n",
       "      <td>4191,730</td>\n",
       "      <td>NaN</td>\n",
       "      <td>1</td>\n",
       "      <td>NaN</td>\n",
       "      <td>0</td>\n",
       "    </tr>\n",
       "    <tr>\n",
       "      <th>2018-05-04</th>\n",
       "      <td>4152,170</td>\n",
       "      <td>4107,240</td>\n",
       "      <td>4150,060</td>\n",
       "      <td>NaN</td>\n",
       "      <td>1</td>\n",
       "      <td>NaN</td>\n",
       "      <td>0</td>\n",
       "    </tr>\n",
       "    <tr>\n",
       "      <th>2018-05-03</th>\n",
       "      <td>4172,790</td>\n",
       "      <td>4105,290</td>\n",
       "      <td>4106,930</td>\n",
       "      <td>NaN</td>\n",
       "      <td>1</td>\n",
       "      <td>NaN</td>\n",
       "      <td>0</td>\n",
       "    </tr>\n",
       "    <tr>\n",
       "      <th>2018-05-02</th>\n",
       "      <td>4197,940</td>\n",
       "      <td>4154,880</td>\n",
       "      <td>4159,440</td>\n",
       "      <td>NaN</td>\n",
       "      <td>1</td>\n",
       "      <td>NaN</td>\n",
       "      <td>0</td>\n",
       "    </tr>\n",
       "  </tbody>\n",
       "</table>\n",
       "</div>"
      ],
      "text/plain": [
       "           High price Low price Closing price  Average price  Total volume  \\\n",
       "Date                                                                         \n",
       "2018-05-09   4232,510  4201,230      4220,860            NaN             1   \n",
       "2018-05-08   4229,150  4184,830      4229,150            NaN             1   \n",
       "2018-05-07   4193,270  4149,390      4191,730            NaN             1   \n",
       "2018-05-04   4152,170  4107,240      4150,060            NaN             1   \n",
       "2018-05-03   4172,790  4105,290      4106,930            NaN             1   \n",
       "2018-05-02   4197,940  4154,880      4159,440            NaN             1   \n",
       "\n",
       "            Turnover  Trades  \n",
       "Date                          \n",
       "2018-05-09       NaN       0  \n",
       "2018-05-08       NaN       0  \n",
       "2018-05-07       NaN       0  \n",
       "2018-05-04       NaN       0  \n",
       "2018-05-03       NaN       0  \n",
       "2018-05-02       NaN       0  "
      ]
     },
     "execution_count": 32,
     "metadata": {},
     "output_type": "execute_result"
    }
   ],
   "source": [
    "data['2018-05-09':'2018-05-01']"
   ]
  },
  {
   "cell_type": "markdown",
   "metadata": {},
   "source": [
    "Resampling method performs a time-based grouping. It can take various reduction methods such as `mean()`, `min()` and `max()`. Here we resample the \"High price\" by week, and take the average price during the week period."
   ]
  },
  {
   "cell_type": "code",
   "execution_count": 48,
   "metadata": {},
   "outputs": [
    {
     "data": {
      "text/plain": [
       "Date\n",
       "2018-04-15    4012.430\n",
       "2018-04-22    4077.886\n",
       "2018-04-29    4117.574\n",
       "2018-05-06    4172.045\n",
       "2018-05-13    4218.310\n",
       "Freq: W-SUN, Name: High price, dtype: float64"
      ]
     },
     "execution_count": 48,
     "metadata": {},
     "output_type": "execute_result"
    }
   ],
   "source": [
    "data['High price'].resample('W').mean().tail()"
   ]
  },
  {
   "cell_type": "code",
   "execution_count": null,
   "metadata": {},
   "outputs": [],
   "source": []
  }
 ],
 "metadata": {
  "kernelspec": {
   "display_name": "Python 3",
   "language": "python",
   "name": "python3"
  },
  "language_info": {
   "codemirror_mode": {
    "name": "ipython",
    "version": 3
   },
   "file_extension": ".py",
   "mimetype": "text/x-python",
   "name": "python",
   "nbconvert_exporter": "python",
   "pygments_lexer": "ipython3",
   "version": "3.6.5"
  }
 },
 "nbformat": 4,
 "nbformat_minor": 2
}
